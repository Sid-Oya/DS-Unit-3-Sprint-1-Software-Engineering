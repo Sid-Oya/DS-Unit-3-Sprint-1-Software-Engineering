{
  "nbformat": 4,
  "nbformat_minor": 0,
  "metadata": {
    "colab": {
      "name": "DSPT7 Office Hours - Unit 3 Sprint 1 - Software Engineering - Study Guide.ipynb",
      "provenance": [],
      "collapsed_sections": [],
      "include_colab_link": true
    },
    "kernelspec": {
      "name": "python3",
      "display_name": "Python 3"
    }
  },
  "cells": [
    {
      "cell_type": "markdown",
      "metadata": {
        "id": "view-in-github",
        "colab_type": "text"
      },
      "source": [
        "<a href=\"https://colab.research.google.com/github/Sid-Oya/DS-Unit-3-Sprint-1-Software-Engineering/blob/master/DSPT7_Office_Hours_Unit_3_Sprint_1_Software_Engineering_Study_Guide.ipynb\" target=\"_parent\"><img src=\"https://colab.research.google.com/assets/colab-badge.svg\" alt=\"Open In Colab\"/></a>"
      ]
    },
    {
      "cell_type": "markdown",
      "metadata": {
        "id": "Nd2OOOVXxXS1"
      },
      "source": [
        "This study guide should reinforce and provide practice for all of the concepts you have seen in the past week. There are a mix of written questions and coding exercises, both are equally important to prepare you for the sprint challenge as well as to be able to speak on these topics comfortably in interviews and on the job.\n",
        "\n",
        "If you get stuck or are unsure of something remember the 20 minute rule. If that doesn't help, then research a solution with google and stackoverflow. Only once you have exausted these methods should you turn to your Team Lead - they won't be there on your SC or during an interview. That being said, don't hesitate to ask for help if you truly are stuck.\n",
        "\n",
        "Have fun studying!"
      ]
    },
    {
      "cell_type": "markdown",
      "metadata": {
        "id": "YbwATE4qeJx7"
      },
      "source": [
        "# Object Oriented Programming"
      ]
    },
    {
      "cell_type": "markdown",
      "metadata": {
        "id": "fpvInKdXekFi"
      },
      "source": [
        "## Questions"
      ]
    },
    {
      "cell_type": "markdown",
      "metadata": {
        "id": "Q6bS8AhBZ86H"
      },
      "source": [
        "When completing this section, try to limit your answers to 2-3 sentences max and use plain english as much as possible. It's very easy to hide incomplete knowledge and understanding behind fancy or technical words, so imagine you are explaining these things to a non-technical interviewer.\n",
        "\n",
        "1. What is OOP?\n",
        "```\n",
        "Put your answer here\n",
        "```\n",
        "\n",
        "2. What is an object?\n",
        "```\n",
        "Put your answer here\n",
        "```\n",
        "\n",
        "3. What is a class?\n",
        "```\n",
        "Put your answer here\n",
        "```\n",
        "\n",
        "4. What is inheritance?\n",
        "```\n",
        "Put your answer here\n",
        "```\n",
        "\n",
        "5. What does it mean to \"instantiate an object\"?\n",
        "```\n",
        "Put your answer here\n",
        "```\n",
        "\n",
        "6. What is a dunder method (aka magic method)? What dunder method is called when you instantiate an object?\n",
        "```\n",
        "Put your answer here\n",
        "```\n",
        "\n",
        "7. What is the super method and when is it used?\n",
        "```\n",
        "Put your answer here\n",
        "```\n",
        "\n",
        "8. What are two other programming paradigms?\n",
        "```\n",
        "Put your answer here\n",
        "```"
      ]
    },
    {
      "cell_type": "markdown",
      "metadata": {
        "id": "dUQaIwbceohq"
      },
      "source": [
        "## Practice Problems"
      ]
    },
    {
      "cell_type": "markdown",
      "metadata": {
        "id": "gzQyr1iPfJBH"
      },
      "source": [
        "Create a `Person` class with the following attributes and methods\n",
        "\n",
        "`Instance Attributes`\n",
        "- name\n",
        "- age - age should be between 0 and 120, if the age is outside of this range at the time of instantiation, set it to 21\n",
        "- add 2 more instance attributes\n",
        "\n",
        "`Methods`\n",
        "- greets - a method that takes in a name and returns `'Hello, [INPUT NAME]! My name is [INSTANCE NAME], nice to meet you!'`\n",
        "- had_birthday - a method that increments age by 1\n",
        "- Write a method that uses one of the instance attributes you added"
      ]
    },
    {
      "cell_type": "code",
      "metadata": {
        "id": "e5hj6Jjwen3J"
      },
      "source": [
        "class Person():\n",
        "  def __init__(self, name, age, birth_month, home_state):\n",
        "    self.name = name\n",
        "\n",
        "    if 0 <= age <= 120:\n",
        "      self.age = age\n",
        "    else:\n",
        "      self.age = 999\n",
        "\n",
        "    self.birth_month = birth_month\n",
        "    self.home_state = home_state\n",
        "\n",
        "  def greets(self, person_to_greet):\n",
        "    print(f'Hello {person_to_greet}! My name is {self.name}, nice to meet you!')\n",
        "\n",
        "  def had_birthday(self):\n",
        "    self.age += 1\n",
        "    \n",
        "  def where_you_from(self):\n",
        "    print(f\"I am from {self.home_state}!\")\n",
        "\n",
        "  def __repr__(self):\n",
        "    return f'Person Object -> Name: {self.name}, Age: {self.age}'"
      ],
      "execution_count": null,
      "outputs": []
    },
    {
      "cell_type": "markdown",
      "metadata": {
        "id": "rq6bizULj6YF"
      },
      "source": [
        "Instantiate your person class, the instance name should be the same as whatever is passed into the name attribute. Make sure you can access all attributes and all methods work as expected."
      ]
    },
    {
      "cell_type": "code",
      "metadata": {
        "id": "1jSaglmDkEZ7",
        "outputId": "370482de-c5dc-41c8-bcc1-cf3178ccaec3",
        "colab": {
          "base_uri": "https://localhost:8080/",
          "height": 103
        }
      },
      "source": [
        "patrick = Person('Patrick Mahomes', 24, 'August', 'TX')\n",
        "print(patrick)\n",
        "print(patrick.name, patrick.age, patrick.birth_month, patrick.home_state)\n",
        "patrick.greets('Bruno')\n",
        "patrick.had_birthday()\n",
        "print(patrick.age)\n",
        "patrick.where_you_from()"
      ],
      "execution_count": null,
      "outputs": [
        {
          "output_type": "stream",
          "text": [
            "Person Object -> Name: Patrick Mahomes, Age: 24\n",
            "Patrick Mahomes 24 August TX\n",
            "Hello Bruno! My name is Patrick Mahomes, nice to meet you!\n",
            "25\n",
            "I am from TX!\n"
          ],
          "name": "stdout"
        }
      ]
    },
    {
      "cell_type": "code",
      "metadata": {
        "id": "eVliAyLeHYSV",
        "outputId": "4471cc14-5676-4955-9053-d8460ee48a4d",
        "colab": {
          "base_uri": "https://localhost:8080/",
          "height": 34
        }
      },
      "source": [
        "print(patrick)"
      ],
      "execution_count": null,
      "outputs": [
        {
          "output_type": "stream",
          "text": [
            "Person Object -> Name: Patrick Mahomes, Age: 25\n"
          ],
          "name": "stdout"
        }
      ]
    },
    {
      "cell_type": "code",
      "metadata": {
        "id": "nEgJckQEHfAI",
        "outputId": "5a957342-7c7e-496b-9082-e5caab2f99d4",
        "colab": {
          "base_uri": "https://localhost:8080/",
          "height": 589
        }
      },
      "source": [
        "dir(patrick)"
      ],
      "execution_count": null,
      "outputs": [
        {
          "output_type": "execute_result",
          "data": {
            "text/plain": [
              "['__class__',\n",
              " '__delattr__',\n",
              " '__dict__',\n",
              " '__dir__',\n",
              " '__doc__',\n",
              " '__eq__',\n",
              " '__format__',\n",
              " '__ge__',\n",
              " '__getattribute__',\n",
              " '__gt__',\n",
              " '__hash__',\n",
              " '__init__',\n",
              " '__init_subclass__',\n",
              " '__le__',\n",
              " '__lt__',\n",
              " '__module__',\n",
              " '__ne__',\n",
              " '__new__',\n",
              " '__reduce__',\n",
              " '__reduce_ex__',\n",
              " '__repr__',\n",
              " '__setattr__',\n",
              " '__sizeof__',\n",
              " '__str__',\n",
              " '__subclasshook__',\n",
              " '__weakref__',\n",
              " 'age',\n",
              " 'birth_month',\n",
              " 'greets',\n",
              " 'had_birthday',\n",
              " 'home_state',\n",
              " 'name',\n",
              " 'where_you_from']"
            ]
          },
          "metadata": {
            "tags": []
          },
          "execution_count": 15
        }
      ]
    },
    {
      "cell_type": "markdown",
      "metadata": {
        "id": "i2dHVZXjhlJS"
      },
      "source": [
        "Create a `worker` class that inherits from `person`. It should have another dunder method besides `__init__` and have the following attributes and method\n",
        "\n",
        "`Instance Attributes`\n",
        "- All of the attributes from person\n",
        "- company\n",
        "- job_title\n",
        "- personal_title (mrs, mr, Dr., etc.)\n",
        "- Add 2 more attributes relevant to just the worker class\n",
        "\n",
        "`Methods`\n",
        "- All of the methods from person\n",
        "- Override the greets class to now take in a personal title and name and returns `'Hello, [INPUT PERSONAL TITLE][INPUT NAME]! My name is [INSTANCE NAME], I work for [INSTANCE COMPANY].'`\n",
        "- Add a new methods relevant to just the worker class that uses at least 2 attributes"
      ]
    },
    {
      "cell_type": "code",
      "metadata": {
        "id": "bnt4a3p9ZYFz"
      },
      "source": [
        "class Worker(Person):\n",
        "  def __init__(self, name, age, birth_month, home_state, company, job_title, personal_title, college_grad=False, high_school_grad=True):\n",
        "    super().__init__(name, age, birth_month, home_state)\n",
        "    self.company = company\n",
        "    self.job_title = job_title\n",
        "    self.personal_title = personal_title\n",
        "    self.college_grad = college_grad\n",
        "    self.high_school_grad = high_school_grad\n",
        "\n",
        "  def greets(self, input_title, input_name):\n",
        "    print(f'Hello {input_title} {input_name}! My name is {self.name} and I work for the {self.company}.')"
      ],
      "execution_count": null,
      "outputs": []
    },
    {
      "cell_type": "markdown",
      "metadata": {
        "id": "QMlNQIUUkbSs"
      },
      "source": [
        "Instantiate your worker class, the instance name should be the same as whatever is passed into the name attribute. Make sure you can access all attributes and all methods work as expected."
      ]
    },
    {
      "cell_type": "code",
      "metadata": {
        "id": "aeVIWEMAkvTM",
        "outputId": "731ff1e2-8467-487f-cd64-553bfd09f4f1",
        "colab": {
          "base_uri": "https://localhost:8080/",
          "height": 51
        }
      },
      "source": [
        "patrick_worker = Worker('Patrick Mahomes', 24, 'August', 'TX', 'Kansas City Chiefs', 'Quarterback', 'Mr.')\n",
        "print(patrick_worker)\n",
        "patrick_worker.greets('Mr.', 'Janota')"
      ],
      "execution_count": null,
      "outputs": [
        {
          "output_type": "stream",
          "text": [
            "Person Object -> Name: Patrick Mahomes, Age: 24\n",
            "Hello Mr. Janota! My name is Patrick Mahomes and I work for the Kansas City Chiefs.\n"
          ],
          "name": "stdout"
        }
      ]
    },
    {
      "cell_type": "markdown",
      "metadata": {
        "id": "TB0FEyf9-Kjk"
      },
      "source": [
        "Write a loop to instantiate 10 `workers` in a list, all with [random](https://docs.python.org/3/library/random.html) values."
      ]
    },
    {
      "cell_type": "code",
      "metadata": {
        "id": "RG8OoaXC-bvS",
        "outputId": "a66af8dd-bf4a-4e87-efde-5b2e146d4e8c",
        "colab": {
          "base_uri": "https://localhost:8080/",
          "height": 190
        }
      },
      "source": [
        "from random import randint, sample\n",
        "\n",
        "NAMES = ['Patrick', 'Lamar', 'Drew', 'Tom', 'Deshaun', 'Matt', 'Russell']\n",
        "\n",
        "for _ in range(10):\n",
        "  name = sample(NAMES, 1)[0]\n",
        "  age = randint(21, 35)\n",
        "  print(name, age)"
      ],
      "execution_count": null,
      "outputs": [
        {
          "output_type": "stream",
          "text": [
            "Patrick 27\n",
            "Drew 30\n",
            "Deshaun 21\n",
            "Drew 31\n",
            "Tom 23\n",
            "Matt 32\n",
            "Matt 27\n",
            "Drew 25\n",
            "Patrick 28\n",
            "Tom 26\n"
          ],
          "name": "stdout"
        }
      ]
    },
    {
      "cell_type": "markdown",
      "metadata": {
        "id": "1PK2d0Ou-b7O"
      },
      "source": [
        "Programatically figure out which `worker` in the list is oldest."
      ]
    },
    {
      "cell_type": "code",
      "metadata": {
        "id": "NxA6Cl6s_If1"
      },
      "source": [
        ""
      ],
      "execution_count": null,
      "outputs": []
    },
    {
      "cell_type": "markdown",
      "metadata": {
        "id": "5CdB5tYilNNi"
      },
      "source": [
        "Verify all of your code above is PEP8 Compliant"
      ]
    },
    {
      "cell_type": "markdown",
      "metadata": {
        "id": "B6jwRAUH7rV4"
      },
      "source": [
        "[More OOP practice if you want it](https://github.com/LambdaSchool/DS-OOP-Review)"
      ]
    },
    {
      "cell_type": "markdown",
      "metadata": {
        "id": "dcWZeuPvmGvg"
      },
      "source": [
        "# Code Review"
      ]
    },
    {
      "cell_type": "markdown",
      "metadata": {
        "id": "ijwt2MNXmONV"
      },
      "source": [
        "## Questions"
      ]
    },
    {
      "cell_type": "markdown",
      "metadata": {
        "id": "igFiqkERmWSk"
      },
      "source": [
        "When completing this section, try to limit your answers to 2-3 sentences max and use plain english as much as possible. It's very easy to hide incomplete knowledge and understanding behind fancy or technical words, so imagine you are explaining these things to a non-technical interviewer.\n",
        "\n",
        "1. What is a style guide? Why does it matter?\n",
        "```\n",
        "Put your answer here\n",
        "```\n",
        "\n",
        "2. What is the style guide for Python called? Name 3 conventions in the style guide.\n",
        "```\n",
        "Put your answer here\n",
        "```\n",
        "\n",
        "3. What are we looking for in a code review?\n",
        "```\n",
        "Put your answer here\n",
        "```\n",
        "\n",
        "4. Of the items listed in question 3, which do you find to be the most important one and why?\n",
        "```\n",
        "Put your answer here\n",
        "```\n",
        "\n",
        "5. Of the items listed in question 3, make a case for another item to be the most important.\n",
        "```\n",
        "Put your answer here\n",
        "```\n",
        "\n",
        "6. What are some non-code considerations when giving a code review?\n",
        "```\n",
        "Put your answer here\n",
        "```"
      ]
    },
    {
      "cell_type": "markdown",
      "metadata": {
        "id": "TfGAb--lmTS1"
      },
      "source": [
        "## Practice Problems"
      ]
    },
    {
      "cell_type": "markdown",
      "metadata": {
        "id": "8r525vW1o8RI"
      },
      "source": [
        "Use the code below to answer the following questions"
      ]
    },
    {
      "cell_type": "code",
      "metadata": {
        "id": "K6X-1BM8mSJV"
      },
      "source": [
        "def sumMult35(n):\n",
        "  #This function finds checks to see if all numbers between 1 and n are a multiple of 3 or five and then adds those ones up. After that it returns that total.\n",
        "  t = 0\n",
        "  for i in range(1, n):\n",
        "    if ((i%3==0)): #mult of 3?\n",
        "      if (i%5==0): '''multiple of 5?'''\n",
        "        t=t+i #add up\n",
        "  return t\n",
        "\n",
        "sumMult35(16)"
      ],
      "execution_count": null,
      "outputs": []
    },
    {
      "cell_type": "markdown",
      "metadata": {
        "id": "6Y52bPq0pBm7"
      },
      "source": [
        "Write a short code review for the code above, that your coworker (the author of the code) will read. Remember two things: they are a fellow human, and also that you are not rewriting it for them, simply giving critique so that they can fix it later.\n",
        "\n",
        "```\n",
        "Put your answer here\n",
        "```"
      ]
    },
    {
      "cell_type": "markdown",
      "metadata": {
        "id": "cFVnDJSDpz5S"
      },
      "source": [
        "Oh, no! You've swapped bodies with your coworker and now have to fix the code. Use your code review to rewrite the function, and make sure it is PEP8 compliant."
      ]
    },
    {
      "cell_type": "code",
      "metadata": {
        "id": "WLyoAK5RqL9B"
      },
      "source": [
        ""
      ],
      "execution_count": null,
      "outputs": []
    },
    {
      "cell_type": "markdown",
      "metadata": {
        "id": "MT4KnnBdrwCh"
      },
      "source": [
        "# Containers"
      ]
    },
    {
      "cell_type": "markdown",
      "metadata": {
        "id": "alRbvYkBr2UE"
      },
      "source": [
        "## Questions"
      ]
    },
    {
      "cell_type": "markdown",
      "metadata": {
        "id": "4HwVuidTr4TT"
      },
      "source": [
        "1. What is a container? Why are they used?\n",
        "```\n",
        "Put your answer here\n",
        "```\n",
        "\n",
        "2. From lecture we know Docker is software to create containers. Name 2 Docker competitors.\n",
        "```\n",
        "Put your answer here\n",
        "```"
      ]
    },
    {
      "cell_type": "markdown",
      "metadata": {
        "id": "P8HQI4R5steC"
      },
      "source": [
        "# Software Testing"
      ]
    },
    {
      "cell_type": "markdown",
      "metadata": {
        "id": "mslC0tl-tPUZ"
      },
      "source": [
        "## Questions"
      ]
    },
    {
      "cell_type": "markdown",
      "metadata": {
        "id": "9d8MIl9dtRMA"
      },
      "source": [
        "When completing this section, try to limit your answers to 2-3 sentences max and use plain english as much as possible. It's very easy to hide incomplete knowledge and understanding behind fancy or technical words, so imagine you are explaining these things to a non-technical interviewer.\n",
        "\n",
        "1. What is unit testing and why do we do it?\n",
        "```\n",
        "Put your answer here\n",
        "```\n",
        "\n",
        "2. When writing unit tests, what should we consider? Why?\n",
        "```\n",
        "Put your answer here\n",
        "```\n",
        "\n",
        "3. How many unit tests should we have?\n",
        "```\n",
        "Put your answer here\n",
        "```"
      ]
    },
    {
      "cell_type": "markdown",
      "metadata": {
        "id": "Z7mPWVQhuEcY"
      },
      "source": [
        "## Practice Problems"
      ]
    },
    {
      "cell_type": "markdown",
      "metadata": {
        "id": "OEoaQiBbuHuH"
      },
      "source": [
        "For the following problems you'll need to move your `Person` and `Worker` classes to `.py` files.\n",
        "\n",
        "Write the following unit tests in a third `.py` file. Verify they work by running the file, and then copy and paste the code into the cell below.\n",
        "- Verify that an instance of person has an age between 0 and 120 when first instantiated\n",
        "- Verify the same thing with a worker instance\n",
        "- Verify the worker `greet` method uses the `personal_title` of the person passed to it.\n",
        "- Write your own unit test"
      ]
    },
    {
      "cell_type": "code",
      "metadata": {
        "id": "fFuP-ZfKv8h1"
      },
      "source": [
        "import unittest\n",
        "\n",
        "class PersonTest(unittest.TestCase):\n",
        "  def age_test(self):\n",
        "    patrick = Person('Patrick Mahomes', 500, 'August', 'TX')\n",
        "    #self.assertGreaterEqual(patrick.age, 0)\n",
        "    #self.assertLessEqual(patrick.age, 120)\n",
        "    self.assertEqual(patrick.age, 999)"
      ],
      "execution_count": null,
      "outputs": []
    },
    {
      "cell_type": "code",
      "metadata": {
        "id": "kjoYBwEFPED5",
        "outputId": "f063672b-2810-4ab5-c6f8-d6801629670e",
        "colab": {
          "base_uri": "https://localhost:8080/",
          "height": 103
        }
      },
      "source": [
        "if __name__ == '__main__':\n",
        "    unittest.main(argv=['first-arg-is-ignored'], exit=False)"
      ],
      "execution_count": null,
      "outputs": [
        {
          "output_type": "stream",
          "text": [
            "\n",
            "----------------------------------------------------------------------\n",
            "Ran 0 tests in 0.000s\n",
            "\n",
            "OK\n"
          ],
          "name": "stderr"
        }
      ]
    },
    {
      "cell_type": "markdown",
      "metadata": {
        "id": "QQQopcNseCeT"
      },
      "source": [
        "The code in all 3 `.py` files should be PEP8 compliant"
      ]
    },
    {
      "cell_type": "markdown",
      "metadata": {
        "id": "RvdEFbjMwZTx"
      },
      "source": [
        "# Git Commands"
      ]
    },
    {
      "cell_type": "markdown",
      "metadata": {
        "id": "yjAVDrQuwcZQ"
      },
      "source": [
        "1. What is the command to make a local copy of one of your repos?\n",
        "```\n",
        "Put your answer here\n",
        "```\n",
        "\n",
        "2. What does the command `git status` do?\n",
        "```\n",
        "Put your answer here\n",
        "```\n",
        "\n",
        "3. How do you add the changes made in a local repo to your repo on github?\n",
        "```\n",
        "Put your answer here\n",
        "```\n",
        "\n",
        "4. What is a branch? Why is it used?\n",
        "```\n",
        "Put your answer here\n",
        "```"
      ]
    }
  ]
}