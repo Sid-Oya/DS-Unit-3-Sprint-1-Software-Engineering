{
  "nbformat": 4,
  "nbformat_minor": 0,
  "metadata": {
    "colab": {
      "name": "DSPT8_Sprint-1-Module-2-OOP.ipynb",
      "provenance": [],
      "collapsed_sections": [],
      "include_colab_link": true
    },
    "kernelspec": {
      "name": "python3",
      "display_name": "Python 3"
    }
  },
  "cells": [
    {
      "cell_type": "markdown",
      "metadata": {
        "id": "view-in-github",
        "colab_type": "text"
      },
      "source": [
        "<a href=\"https://colab.research.google.com/github/Sid-Oya/DS-Unit-3-Sprint-1-Software-Engineering/blob/master/DSPT8_Sprint_1_Module_2_OOP.ipynb\" target=\"_parent\"><img src=\"https://colab.research.google.com/assets/colab-badge.svg\" alt=\"Open In Colab\"/></a>"
      ]
    },
    {
      "cell_type": "markdown",
      "metadata": {
        "id": "ttoqHRePM4cD"
      },
      "source": [
        "# Intro to OOP"
      ]
    },
    {
      "cell_type": "code",
      "metadata": {
        "id": "kwhED1GpDXkw"
      },
      "source": [
        "class Computer:\n",
        "  pass"
      ],
      "execution_count": null,
      "outputs": []
    },
    {
      "cell_type": "code",
      "metadata": {
        "id": "n3jDFn8hOJxJ"
      },
      "source": [
        "my_computer_1 = Computer()"
      ],
      "execution_count": null,
      "outputs": []
    },
    {
      "cell_type": "code",
      "metadata": {
        "id": "THBM_TT8ORir"
      },
      "source": [
        "my_computer_2 = Computer()"
      ],
      "execution_count": null,
      "outputs": []
    },
    {
      "cell_type": "code",
      "metadata": {
        "id": "dvCFAyzwOYN8",
        "outputId": "887f3cfd-c085-411b-e165-7f3b84b8e75f",
        "colab": {
          "base_uri": "https://localhost:8080/"
        }
      },
      "source": [
        "my_computer_1"
      ],
      "execution_count": null,
      "outputs": [
        {
          "output_type": "execute_result",
          "data": {
            "text/plain": [
              "<__main__.Computer at 0x7f546366c7f0>"
            ]
          },
          "metadata": {
            "tags": []
          },
          "execution_count": 5
        }
      ]
    },
    {
      "cell_type": "code",
      "metadata": {
        "id": "nx_78c4sOb8q",
        "outputId": "5e1225e5-0dbd-42b1-ecac-a053ce73d18a",
        "colab": {
          "base_uri": "https://localhost:8080/"
        }
      },
      "source": [
        "my_computer_2"
      ],
      "execution_count": null,
      "outputs": [
        {
          "output_type": "execute_result",
          "data": {
            "text/plain": [
              "<__main__.Computer at 0x7f546366c710>"
            ]
          },
          "metadata": {
            "tags": []
          },
          "execution_count": 6
        }
      ]
    },
    {
      "cell_type": "code",
      "metadata": {
        "id": "v-L5EbjcOmez",
        "outputId": "5d34f9a7-b1a9-4521-a5ab-314ae9ad8812",
        "colab": {
          "base_uri": "https://localhost:8080/"
        }
      },
      "source": [
        "dir(my_computer_1)"
      ],
      "execution_count": null,
      "outputs": [
        {
          "output_type": "execute_result",
          "data": {
            "text/plain": [
              "['__class__',\n",
              " '__delattr__',\n",
              " '__dict__',\n",
              " '__dir__',\n",
              " '__doc__',\n",
              " '__eq__',\n",
              " '__format__',\n",
              " '__ge__',\n",
              " '__getattribute__',\n",
              " '__gt__',\n",
              " '__hash__',\n",
              " '__init__',\n",
              " '__init_subclass__',\n",
              " '__le__',\n",
              " '__lt__',\n",
              " '__module__',\n",
              " '__ne__',\n",
              " '__new__',\n",
              " '__reduce__',\n",
              " '__reduce_ex__',\n",
              " '__repr__',\n",
              " '__setattr__',\n",
              " '__sizeof__',\n",
              " '__str__',\n",
              " '__subclasshook__',\n",
              " '__weakref__']"
            ]
          },
          "metadata": {
            "tags": []
          },
          "execution_count": 7
        }
      ]
    },
    {
      "cell_type": "code",
      "metadata": {
        "id": "XpSCi-AxOt9z"
      },
      "source": [
        "class Computer:\n",
        "  # initilizer or constructor\n",
        "  def __init__(self, price, width, length, height):\n",
        "    self.price = price\n",
        "    self.width = width\n",
        "    self.length = length\n",
        "    self.height = height"
      ],
      "execution_count": null,
      "outputs": []
    },
    {
      "cell_type": "code",
      "metadata": {
        "id": "S45JOAPlPcCr"
      },
      "source": [
        "my_computer = Computer(price=1500, width=11, length=8, height=1)"
      ],
      "execution_count": null,
      "outputs": []
    },
    {
      "cell_type": "code",
      "metadata": {
        "id": "D8JyQMAePfUr",
        "outputId": "c606e3a6-cfb0-4e57-b123-2788999408ef",
        "colab": {
          "base_uri": "https://localhost:8080/"
        }
      },
      "source": [
        "my_computer.length"
      ],
      "execution_count": null,
      "outputs": [
        {
          "output_type": "execute_result",
          "data": {
            "text/plain": [
              "8"
            ]
          },
          "metadata": {
            "tags": []
          },
          "execution_count": 21
        }
      ]
    },
    {
      "cell_type": "code",
      "metadata": {
        "id": "Qt3IDoIQQC0a",
        "outputId": "38a31edc-39e1-4e8b-e0ae-c218a70844c7",
        "colab": {
          "base_uri": "https://localhost:8080/"
        }
      },
      "source": [
        "dir(my_computer)"
      ],
      "execution_count": null,
      "outputs": [
        {
          "output_type": "execute_result",
          "data": {
            "text/plain": [
              "['__class__',\n",
              " '__delattr__',\n",
              " '__dict__',\n",
              " '__dir__',\n",
              " '__doc__',\n",
              " '__eq__',\n",
              " '__format__',\n",
              " '__ge__',\n",
              " '__getattribute__',\n",
              " '__gt__',\n",
              " '__hash__',\n",
              " '__init__',\n",
              " '__init_subclass__',\n",
              " '__le__',\n",
              " '__lt__',\n",
              " '__module__',\n",
              " '__ne__',\n",
              " '__new__',\n",
              " '__reduce__',\n",
              " '__reduce_ex__',\n",
              " '__repr__',\n",
              " '__setattr__',\n",
              " '__sizeof__',\n",
              " '__str__',\n",
              " '__subclasshook__',\n",
              " '__weakref__',\n",
              " 'height',\n",
              " 'length',\n",
              " 'price',\n",
              " 'width']"
            ]
          },
          "metadata": {
            "tags": []
          },
          "execution_count": 22
        }
      ]
    },
    {
      "cell_type": "code",
      "metadata": {
        "id": "lv_K_g-WRF1q"
      },
      "source": [
        "class Computer:\n",
        "  # initilizer or constructor\n",
        "  def __init__(self, price, width, length, height):\n",
        "    self.price = price\n",
        "    self.width = width\n",
        "    self.length = length\n",
        "    self.height = height\n",
        "\n",
        "  def __repr__(self):\n",
        "    return f\"Computer(price={self.price}, width={self.width}, length={self.length}, height={self.height})\"\n",
        "  \n",
        "  def __str__(self):\n",
        "    return f\"Price: ${self.price}. Dimensions: {self.width}x{self.length}x{self.height}\""
      ],
      "execution_count": null,
      "outputs": []
    },
    {
      "cell_type": "code",
      "metadata": {
        "id": "kWEWdQX7SGOA"
      },
      "source": [
        "my_computer = Computer(price=1500, width=11, length=8, height=2)"
      ],
      "execution_count": null,
      "outputs": []
    },
    {
      "cell_type": "code",
      "metadata": {
        "id": "L5vIh4BISJWB",
        "outputId": "399065e3-8d97-4a92-edfd-d97e963d4056",
        "colab": {
          "base_uri": "https://localhost:8080/"
        }
      },
      "source": [
        "my_computer"
      ],
      "execution_count": null,
      "outputs": [
        {
          "output_type": "execute_result",
          "data": {
            "text/plain": [
              "Computer(price=1500, width=11, length=8, height=2)"
            ]
          },
          "metadata": {
            "tags": []
          },
          "execution_count": 33
        }
      ]
    },
    {
      "cell_type": "code",
      "metadata": {
        "id": "zJNveQDmSK4C",
        "outputId": "ed20659a-20d8-4193-87fb-9f8336164f26",
        "colab": {
          "base_uri": "https://localhost:8080/"
        }
      },
      "source": [
        "print(my_computer)"
      ],
      "execution_count": null,
      "outputs": [
        {
          "output_type": "stream",
          "text": [
            "Price: $1500. Dimensions: 11x8x2\n"
          ],
          "name": "stdout"
        }
      ]
    },
    {
      "cell_type": "code",
      "metadata": {
        "id": "XY26ZH0HSb-B",
        "outputId": "28749209-82bc-4e42-9df6-924a10ce253e",
        "colab": {
          "base_uri": "https://localhost:8080/",
          "height": 35
        }
      },
      "source": [
        "str(my_computer)"
      ],
      "execution_count": null,
      "outputs": [
        {
          "output_type": "execute_result",
          "data": {
            "application/vnd.google.colaboratory.intrinsic+json": {
              "type": "string"
            },
            "text/plain": [
              "'Price: $1500. Dimensions: 11x8x2'"
            ]
          },
          "metadata": {
            "tags": []
          },
          "execution_count": 35
        }
      ]
    },
    {
      "cell_type": "code",
      "metadata": {
        "id": "rXMYDmLWUwhR",
        "outputId": "09fc0af7-d767-474e-ba8f-15556c411222",
        "colab": {
          "base_uri": "https://localhost:8080/"
        }
      },
      "source": [
        "from datetime import datetime\n",
        "time_now = datetime.now()\n",
        "time_now.year"
      ],
      "execution_count": null,
      "outputs": [
        {
          "output_type": "execute_result",
          "data": {
            "text/plain": [
              "2020"
            ]
          },
          "metadata": {
            "tags": []
          },
          "execution_count": 44
        }
      ]
    },
    {
      "cell_type": "code",
      "metadata": {
        "id": "XJYFrn0qSiKn"
      },
      "source": [
        "class Computer:\n",
        "  # initilizer or constructor\n",
        "  def __init__(self, price, width, length, height, year_manufactured):\n",
        "    self.price = price\n",
        "    self.width = width\n",
        "    self.length = length\n",
        "    self.height = height\n",
        "    self.year_manufactured = year_manufactured\n",
        "\n",
        "  def __repr__(self):\n",
        "    return f\"Computer(price={self.price}, width={self.width}, length={self.length}, height={self.height})\"\n",
        "  \n",
        "  def __str__(self):\n",
        "    return f\"Price: ${self.price}. Dimensions: {self.width}x{self.length}x{self.height}\"\n",
        "\n",
        "  def get_years_since_manufactured(self):\n",
        "    from datetime import datetime\n",
        "    time_now = datetime.now()\n",
        "    years_since_manufactured = time_now.year - self.year_manufactured\n",
        "    return years_since_manufactured"
      ],
      "execution_count": null,
      "outputs": []
    },
    {
      "cell_type": "code",
      "metadata": {
        "id": "4YEHy2LxUbV4"
      },
      "source": [
        "my_computer = Computer(price=1500, width=11, length=8, height=2, year_manufactured=2015)"
      ],
      "execution_count": null,
      "outputs": []
    },
    {
      "cell_type": "code",
      "metadata": {
        "id": "FMHYkfeiUeun",
        "outputId": "8d547606-097b-4f89-bd40-caef268afd8f",
        "colab": {
          "base_uri": "https://localhost:8080/"
        }
      },
      "source": [
        "my_computer.get_years_since_manufactured()"
      ],
      "execution_count": null,
      "outputs": [
        {
          "output_type": "execute_result",
          "data": {
            "text/plain": [
              "5"
            ]
          },
          "metadata": {
            "tags": []
          },
          "execution_count": 62
        }
      ]
    },
    {
      "cell_type": "markdown",
      "metadata": {
        "id": "TCXcl4WrVobG"
      },
      "source": [
        "# Inheritance"
      ]
    },
    {
      "cell_type": "code",
      "metadata": {
        "id": "YIanuV1lUgSm"
      },
      "source": [
        "class Computer:\n",
        "  # initilizer or constructor\n",
        "  def __init__(self, price, width, length, height, year_manufactured):\n",
        "    self.price = price\n",
        "    self.width = width\n",
        "    self.length = length\n",
        "    self.height = height\n",
        "    self.year_manufactured = year_manufactured\n",
        "\n",
        "  def __repr__(self):\n",
        "    return f\"Computer(price={self.price}, width={self.width}, length={self.length}, height={self.height})\"\n",
        "  \n",
        "  def __str__(self):\n",
        "    return f\"Price: ${self.price}. Dimensions: {self.width}x{self.length}x{self.height}\"\n",
        "\n",
        "  def get_years_since_manufactured(self):\n",
        "    time_now = datetime.now()\n",
        "    years_since_manufactured = time_now.year - self.year_manufactured\n",
        "    return years_since_manufactured\n",
        "\n",
        "  def is_portable(self):\n",
        "    raise NotImplementedError('is_portable() not implemented. Computer is a parent class')"
      ],
      "execution_count": null,
      "outputs": []
    },
    {
      "cell_type": "code",
      "metadata": {
        "id": "4Js_nS6CWTdF",
        "outputId": "c12b46b4-7d87-4821-d1cf-8e2d5e757bcd",
        "colab": {
          "base_uri": "https://localhost:8080/",
          "height": 269
        }
      },
      "source": [
        "my_computer = Computer(price=1500, width=11, length=8, height=2, year_manufactured=2015)\n",
        "my_computer.is_portable()"
      ],
      "execution_count": null,
      "outputs": [
        {
          "output_type": "error",
          "ename": "NotImplementedError",
          "evalue": "ignored",
          "traceback": [
            "\u001b[0;31m---------------------------------------------------------------------------\u001b[0m",
            "\u001b[0;31mNotImplementedError\u001b[0m                       Traceback (most recent call last)",
            "\u001b[0;32m<ipython-input-65-f945983e383e>\u001b[0m in \u001b[0;36m<module>\u001b[0;34m()\u001b[0m\n\u001b[1;32m      1\u001b[0m \u001b[0mmy_computer\u001b[0m \u001b[0;34m=\u001b[0m \u001b[0mComputer\u001b[0m\u001b[0;34m(\u001b[0m\u001b[0mprice\u001b[0m\u001b[0;34m=\u001b[0m\u001b[0;36m1500\u001b[0m\u001b[0;34m,\u001b[0m \u001b[0mwidth\u001b[0m\u001b[0;34m=\u001b[0m\u001b[0;36m11\u001b[0m\u001b[0;34m,\u001b[0m \u001b[0mlength\u001b[0m\u001b[0;34m=\u001b[0m\u001b[0;36m8\u001b[0m\u001b[0;34m,\u001b[0m \u001b[0mheight\u001b[0m\u001b[0;34m=\u001b[0m\u001b[0;36m2\u001b[0m\u001b[0;34m,\u001b[0m \u001b[0myear_manufactured\u001b[0m\u001b[0;34m=\u001b[0m\u001b[0;36m2015\u001b[0m\u001b[0;34m)\u001b[0m\u001b[0;34m\u001b[0m\u001b[0;34m\u001b[0m\u001b[0m\n\u001b[0;32m----> 2\u001b[0;31m \u001b[0mmy_computer\u001b[0m\u001b[0;34m.\u001b[0m\u001b[0mis_portable\u001b[0m\u001b[0;34m(\u001b[0m\u001b[0;34m)\u001b[0m\u001b[0;34m\u001b[0m\u001b[0;34m\u001b[0m\u001b[0m\n\u001b[0m",
            "\u001b[0;32m<ipython-input-63-135ce9b8e995>\u001b[0m in \u001b[0;36mis_portable\u001b[0;34m(self)\u001b[0m\n\u001b[1;32m     20\u001b[0m \u001b[0;34m\u001b[0m\u001b[0m\n\u001b[1;32m     21\u001b[0m   \u001b[0;32mdef\u001b[0m \u001b[0mis_portable\u001b[0m\u001b[0;34m(\u001b[0m\u001b[0mself\u001b[0m\u001b[0;34m)\u001b[0m\u001b[0;34m:\u001b[0m\u001b[0;34m\u001b[0m\u001b[0;34m\u001b[0m\u001b[0m\n\u001b[0;32m---> 22\u001b[0;31m     \u001b[0;32mraise\u001b[0m \u001b[0mNotImplementedError\u001b[0m\u001b[0;34m(\u001b[0m\u001b[0;34m'is_portable() not implemented. Computer is a parent class'\u001b[0m\u001b[0;34m)\u001b[0m\u001b[0;34m\u001b[0m\u001b[0;34m\u001b[0m\u001b[0m\n\u001b[0m",
            "\u001b[0;31mNotImplementedError\u001b[0m: is_portable() not implemented. Computer is a parent class"
          ]
        }
      ]
    },
    {
      "cell_type": "code",
      "metadata": {
        "id": "O4QOcd4YWaOG"
      },
      "source": [
        "class DesktopComputer(Computer):\n",
        "  def is_portable(self):\n",
        "    return False"
      ],
      "execution_count": null,
      "outputs": []
    },
    {
      "cell_type": "code",
      "metadata": {
        "id": "AD2lPPGBXKDT"
      },
      "source": [
        "my_computer = DesktopComputer(price=1500, width=11, length=8, height=2, year_manufactured=2015)"
      ],
      "execution_count": null,
      "outputs": []
    },
    {
      "cell_type": "markdown",
      "metadata": {
        "id": "Q3uPRBFTX6zs"
      },
      "source": [
        "D - Don't \n",
        "\n",
        "R - Repeat\n",
        "\n",
        "Y - Yourself"
      ]
    },
    {
      "cell_type": "code",
      "metadata": {
        "id": "azREKJ2kXORl"
      },
      "source": [
        "class LaptopComputer(Computer):\n",
        "  def __init__(self, price, width, length, height, year_manufactured, display_size, battery_capacity):\n",
        "    super().__init__(price, width, length, height, year_manufactured)\n",
        "    self.display_size = display_size\n",
        "    self.battery_capacity = battery_capacity\n",
        "\n",
        "  def is_portable(self):\n",
        "    return True\n",
        "\n",
        "  def get_hours_one_charge(self):\n",
        "    return int(self.battery_capacity/(50*self.display_size))"
      ],
      "execution_count": null,
      "outputs": []
    },
    {
      "cell_type": "code",
      "metadata": {
        "id": "3tUTBFxgYVgk"
      },
      "source": [
        "my_computer = LaptopComputer(price=1500, \n",
        "                             width=11, \n",
        "                             length=8, \n",
        "                             height=2, \n",
        "                             year_manufactured=2015,\n",
        "                             display_size=15,\n",
        "                             battery_capacity=8000)"
      ],
      "execution_count": null,
      "outputs": []
    },
    {
      "cell_type": "code",
      "metadata": {
        "id": "ntzHkRSsYfS8",
        "outputId": "47702a3d-4eac-4026-9671-6c6054012dcf",
        "colab": {
          "base_uri": "https://localhost:8080/"
        }
      },
      "source": [
        "my_computer.get_years_since_manufactured()"
      ],
      "execution_count": null,
      "outputs": [
        {
          "output_type": "execute_result",
          "data": {
            "text/plain": [
              "5"
            ]
          },
          "metadata": {
            "tags": []
          },
          "execution_count": 82
        }
      ]
    },
    {
      "cell_type": "code",
      "metadata": {
        "id": "Rz8nG0gxYzq0",
        "outputId": "5aa17dd2-31e2-4849-97de-2e7beeeb8e5a",
        "colab": {
          "base_uri": "https://localhost:8080/"
        }
      },
      "source": [
        "my_computer.get_hours_one_charge()"
      ],
      "execution_count": null,
      "outputs": [
        {
          "output_type": "execute_result",
          "data": {
            "text/plain": [
              "10"
            ]
          },
          "metadata": {
            "tags": []
          },
          "execution_count": 83
        }
      ]
    },
    {
      "cell_type": "code",
      "metadata": {
        "id": "bMB8p1bRY2IU"
      },
      "source": [
        ""
      ],
      "execution_count": null,
      "outputs": []
    }
  ]
}